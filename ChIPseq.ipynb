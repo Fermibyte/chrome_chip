{
  "cells": [
    {
      "cell_type": "code",
      "source": [
        "from chrome_chip.parse import parse_config\n",
        "from chrome_chip.common import validated_run, html_header\n",
        "from chrome_chip.preprocess import stage, fastq_screen, trim, fastqc\n",
        "from chrome_chip.encode_pipe import encode3, UMI, spike\n",
        "from chrome_chip.qc import principal_component_analysis, preseq, final_qc, finish\n",
        "from chrome_chip.overlaps import overlaps, annotation, heatmaps\n",
        "\n",
        "from IPython.display import HTML, display\n",
        "\ndisplay(HTML(html_header()))"
      ],
      "outputs": [],
      "execution_count": null,
      "metadata": {}
    },
    {
      "cell_type": "code",
      "source": [
        "yaml_file = 'ChIPseq_experiment_file.yml'"
      ],
      "outputs": [],
      "execution_count": null,
      "metadata": {
        "tags": [
          "parameters"
        ]
      }
    },
    {
      "cell_type": "markdown",
      "source": [
        "## Parse Experimental Data"
      ],
      "metadata": {}
    },
    {
      "cell_type": "code",
      "source": [
        "exp = parse_config(yaml_file)"
      ],
      "outputs": [],
      "execution_count": null,
      "metadata": {}
    },
    {
      "cell_type": "markdown",
      "source": [
        "## Staging Files"
      ],
      "metadata": {}
    },
    {
      "cell_type": "code",
      "source": [
        "exp = validated_run('Stage', stage, exp)"
      ],
      "outputs": [],
      "execution_count": null,
      "metadata": {}
    },
    {
      "cell_type": "markdown",
      "source": [
        "## Contamination Screen"
      ],
      "metadata": {}
    },
    {
      "cell_type": "code",
      "source": [
        "exp = validated_run('Fastq_screen', fastq_screen, exp)"
      ],
      "outputs": [],
      "execution_count": null,
      "metadata": {}
    },
    {
      "cell_type": "markdown",
      "source": [
        "## Fastq Trimming"
      ],
      "metadata": {}
    },
    {
      "cell_type": "code",
      "source": [
        "exp = validated_run('Trim', trim, exp)"
      ],
      "outputs": [],
      "execution_count": null,
      "metadata": {}
    },
    {
      "cell_type": "markdown",
      "source": [
        "## FastQC"
      ],
      "metadata": {}
    },
    {
      "cell_type": "code",
      "source": [
        "exp = validated_run('FastQC', fastqc, exp)"
      ],
      "outputs": [],
      "execution_count": null,
      "metadata": {}
    },
    {
      "cell_type": "markdown",
      "source": [
        "## ENCODE3"
      ],
      "metadata": {}
    },
    {
      "cell_type": "code",
      "source": [
        "exp = validated_run('ENCODE3', encode3, exp)"
      ],
      "outputs": [],
      "execution_count": null,
      "metadata": {}
    },
    {
      "cell_type": "markdown",
      "source": [
        "## UMI handling"
      ],
      "metadata": {}
    },
    {
      "cell_type": "code",
      "source": [
        "exp = validated_run('UMI', UMI, exp)"
      ],
      "outputs": [],
      "execution_count": null,
      "metadata": {}
    },
    {
      "cell_type": "markdown",
      "source": [
        "## Spike-in Processing"
      ],
      "metadata": {}
    },
    {
      "cell_type": "code",
      "source": [
        "exp = validated_run('Spike', spike, exp)"
      ],
      "outputs": [],
      "execution_count": null,
      "metadata": {}
    },
    {
      "cell_type": "markdown",
      "source": [
        "## Library Complexity"
      ],
      "metadata": {}
    },
    {
      "cell_type": "code",
      "source": [
        "exp = validated_run('preseq', preseq, exp)"
      ],
      "outputs": [],
      "execution_count": null,
      "metadata": {}
    },
    {
      "cell_type": "markdown",
      "source": [
        "## Principal Component Analysis"
      ],
      "metadata": {}
    },
    {
      "cell_type": "code",
      "source": [
        "exp = validated_run('PCA', principal_component_analysis, exp)"
      ],
      "outputs": [],
      "execution_count": null,
      "metadata": {}
    },
    {
      "cell_type": "markdown",
      "source": [
        "## Overlaps"
      ],
      "metadata": {}
    },
    {
      "cell_type": "code",
      "source": [
        "exp = validated_run('Overlaps', overlaps, exp)"
      ],
      "outputs": [],
      "execution_count": null,
      "metadata": {}
    },
    {
      "cell_type": "markdown",
      "source": [
        "## Differential Binding Analysis"
      ],
      "metadata": {}
    },
    {
      "cell_type": "markdown",
      "source": [
        "exp=chip.validated_run('Sigs',chip.diff_binding,exp)"
      ],
      "metadata": {}
    },
    {
      "cell_type": "markdown",
      "source": [
        "## Heatmap Generation"
      ],
      "metadata": {}
    },
    {
      "cell_type": "code",
      "source": [
        "exp = validated_run('Heatmaps', heatmaps, exp)"
      ],
      "outputs": [],
      "execution_count": null,
      "metadata": {}
    },
    {
      "cell_type": "markdown",
      "source": [
        "## Annotation"
      ],
      "metadata": {}
    },
    {
      "cell_type": "code",
      "source": [
        "exp = validated_run('Annotations', annotation, exp)"
      ],
      "outputs": [],
      "execution_count": null,
      "metadata": {}
    },
    {
      "cell_type": "markdown",
      "source": [
        "## MultiQC"
      ],
      "metadata": {}
    },
    {
      "cell_type": "code",
      "source": [
        "exp = validated_run('MultiQC', final_qc, exp)"
      ],
      "outputs": [],
      "execution_count": null,
      "metadata": {}
    },
    {
      "cell_type": "markdown",
      "source": [
        "## Clean Analysis Results and Finish"
      ],
      "metadata": {}
    },
    {
      "cell_type": "code",
      "source": [
        "exp = validated_run('Finished', finish, exp)"
      ],
      "outputs": [],
      "execution_count": null,
      "metadata": {}
    }
  ],
  "metadata": {
    "celltoolbar": "Tags",
    "kernelspec": {
      "display_name": "Python 3",
      "language": "python",
      "name": "python3"
    },
    "language_info": {
      "codemirror_mode": {
        "name": "ipython",
        "version": 3
      },
      "file_extension": ".py",
      "mimetype": "text/x-python",
      "name": "python",
      "nbconvert_exporter": "python",
      "pygments_lexer": "ipython3",
      "version": "3.6.5"
    },
    "nteract": {
      "version": "0.12.3"
    }
  },
  "nbformat": 4,
  "nbformat_minor": 2
}